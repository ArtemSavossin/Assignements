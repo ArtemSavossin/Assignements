{
 "cells": [
  {
   "cell_type": "markdown",
   "metadata": {},
   "source": [
    "Посчитаем опредленный интеграл ручками:\n",
    "integrate (1 + x^2)^2 from -1 to 1 = \n",
    "= 1 + (2 x X^2) + X^4 form -1 to 1 = \n",
    "= x + (2 x X^3)/3 + (X^5)/5 |form(-1 to 1) = 56/15"
   ]
  },
  {
   "cell_type": "code",
   "execution_count": 65,
   "metadata": {},
   "outputs": [
    {
     "name": "stdout",
     "output_type": "stream",
     "text": [
      "  n: 8        16       32       64       128      256      512      1024     2048     4096     8192     16384    32768    \n",
      "err: 0.33437| 0.16673| 0.08334| 0.04167| 0.02083| 0.01042| 0.00521| 0.00260| 0.00130| 0.00065| 0.00033| 0.00016| 0.00008| \n",
      "s_n: 0.79023| 0.86147| 0.89622| 0.91699| 0.93083| 0.94071| 0.94812| 0.95388| 0.95850| 0.96227| 0.96541| 0.96807| 0.97035| "
     ]
    }
   ],
   "source": [
    "import math\n",
    "\n",
    "def function(x):\n",
    "    return (1 + x**2)**2\n",
    "\n",
    "def SimSum(n, a, b, func):\n",
    "    h = (b-a)/n\n",
    "    k1 = 0\n",
    "    k2 = 0\n",
    "    for i in range(1, n, 2):\n",
    "        k1 += func(a + i*h)\n",
    "        k2 += func(a + (i+1)*h)\n",
    "    return h/3*(func(a) + 4*k1 + 2*k2)\n",
    "\n",
    "a = -1\n",
    "b = 1\n",
    "err_n = []\n",
    "s_n = []\n",
    "true_ans = 56/15\n",
    "for i in range(3, 16):\n",
    "    err = abs(SimSum(2**i, a, b, function) - true_ans)\n",
    "    err_n.append(err)\n",
    "    s_n.append((math.log(err))/(math.log(b-a) - math.log(2**i)))\n",
    "print(\"  n: \", end = '')\n",
    "for i in range(3, 16):\n",
    "    print(2**i, end = (\" \"*(9-len(str(2**i)))))\n",
    "print()\n",
    "print(\"err: \", end = '')\n",
    "for err in err_n:\n",
    "    print(\"%.5f\" %err, sep = '/t', end='| ')\n",
    "print()\n",
    "print(\"s_n: \", end = '')\n",
    "for a in s_n:\n",
    "    print(\"%.5f\" %a, sep = '/t', end='| ')"
   ]
  },
  {
   "cell_type": "markdown",
   "metadata": {},
   "source": [
    "Из таблицы видно, что ошибка уменьшается, и я не понял, что нужно сказать про скорость сходимости, она достаточно "
   ]
  }
 ],
 "metadata": {
  "kernelspec": {
   "display_name": "Python 3",
   "language": "python",
   "name": "python3"
  },
  "language_info": {
   "codemirror_mode": {
    "name": "ipython",
    "version": 3
   },
   "file_extension": ".py",
   "mimetype": "text/x-python",
   "name": "python",
   "nbconvert_exporter": "python",
   "pygments_lexer": "ipython3",
   "version": "3.7.0"
  }
 },
 "nbformat": 4,
 "nbformat_minor": 2
}
