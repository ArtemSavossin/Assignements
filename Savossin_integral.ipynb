{
 "cells": [
  {
   "cell_type": "markdown",
   "metadata": {},
   "source": [
    "Для удобства разобью функцию на две части - от -1 до 0 и от 0 до 1"
   ]
  },
  {
   "cell_type": "code",
   "execution_count": 55,
   "metadata": {},
   "outputs": [
    {
     "name": "stdout",
     "output_type": "stream",
     "text": [
      "for n = 10 delta = 1.48843\n",
      "for n = 100 delta = 0.15980\n",
      "for n = 1000 delta = 0.01600\n",
      "for n = 10000 delta = 0.00160\n",
      "for n = 25000 delta = 0.00064\n",
      "for n = 50000 delta = 0.00032\n",
      "for n = 100000 delta = 0.00016\n",
      "for n = 250000 delta = 0.00006\n"
     ]
    }
   ],
   "source": [
    "import math\n",
    "\n",
    "def UpperDSum(n, a, b, func):\n",
    "    summary = 0\n",
    "    for i in range (1, n + 1):\n",
    "        summary += max([func((b-a)*(i-1) / n), func((b-a)*i / n)])\n",
    "    return (summary * ((b-a)/n))\n",
    "\n",
    "def LowerDSum(n, a, b, func):\n",
    "    summary = 0\n",
    "    for i in range (1, n + 1):\n",
    "        summary += min([func((b-a)*(i-1) / n), func((b-a)*i / n)])\n",
    "    return (summary * ((b-a)/n))\n",
    "\n",
    "def DeltaDSum(n, a, b, func):\n",
    "    return UpperDSum(n, a, b, func) - LowerDSum(n, a, b, func)\n",
    "\n",
    "def function(x):\n",
    "    return math.cos(math.pi * x * x)\n",
    "\n",
    "a = -1\n",
    "b = 0\n",
    "c = 1\n",
    "numbers = [10, 100, 1000, 10000, 25000, 50000, 100000, 250000]\n",
    "for i in numbers:\n",
    "    delta = DeltaDSum(i, a, b, function) + DeltaDSum(i, b, c, function) \n",
    "    print(\"for n =\", i, \"delta =\", \"%.5f\" %delta)"
   ]
  },
  {
   "cell_type": "markdown",
   "metadata": {},
   "source": [
    "Можно заметить, что при n = 250000 разница верхей и нижней суммы Дарбу меньше, чем 10^(-4)\n",
    "Тогда, найдем определенный интеграл для данной функции при n = 250000"
   ]
  },
  {
   "cell_type": "code",
   "execution_count": 56,
   "metadata": {},
   "outputs": [
    {
     "name": "stdout",
     "output_type": "stream",
     "text": [
      "approximate answer is 0.35048805\n"
     ]
    }
   ],
   "source": [
    "ans = UpperDSum(250000, a, b, function) + UpperDSum(250000, b, c, function) \n",
    "print(\"approximate answer is\" , \"%.8f\" %ans)"
   ]
  },
  {
   "cell_type": "code",
   "execution_count": null,
   "metadata": {},
   "outputs": [],
   "source": []
  }
 ],
 "metadata": {
  "kernelspec": {
   "display_name": "Python 3",
   "language": "python",
   "name": "python3"
  },
  "language_info": {
   "codemirror_mode": {
    "name": "ipython",
    "version": 3
   },
   "file_extension": ".py",
   "mimetype": "text/x-python",
   "name": "python",
   "nbconvert_exporter": "python",
   "pygments_lexer": "ipython3",
   "version": "3.7.0"
  }
 },
 "nbformat": 4,
 "nbformat_minor": 2
}
