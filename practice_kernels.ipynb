{
 "cells": [
  {
   "cell_type": "markdown",
   "metadata": {},
   "source": [
    "В данном файле представлены результаты 17 экспериментов ждя различных строковых ядер на разных входгых данных.\n",
    "Основное ядро - LocalAlignmentStringKernel, считает все возможные локальные выравнивания между двумя последовательностями.\n",
    "Для сравнения работы были взяты ядра OligoStringKernel, GaussianMatchStringKernel"
   ]
  },
  {
   "cell_type": "code",
   "execution_count": 41,
   "metadata": {},
   "outputs": [
    {
     "name": "stdout",
     "output_type": "stream",
     "text": [
      "*Results with random4000.fa      PR     ROC \n",
      "for enh_es_fb                  0.7401  0.70571\n",
      "for enh_es_800                 0.9877  1.00000\n",
      "for enh_es_200                 0.9865  0.99941\n",
      "for enh_es_mb                  0.9106  0.87611\n",
      "*Results with random5240.fa      PR     ROC \n",
      "for enh_es_800                 0.9850  1.00000\n",
      "for enh_es_200                 0.9428  0.97043\n",
      "for enh_es_fb                  0.9849  0.99991\n",
      "for enh_es_mb                  0.9848  0.99991\n",
      "*Results with random12000.fa     PR     ROC \n",
      "for enh_es_fb                  0.9904  1.00000\n",
      "for enh_es_200                 0.9296  0.96891\n",
      "for enh_es_800                 0.9904  1.00000\n",
      "for enh_neuact_200             0.6905  0.73083\n",
      "for enh_mb                     0.7401  0.70627\n"
     ]
    }
   ],
   "source": [
    "print(\"*Results with random4000.fa \", \"PR\", \"ROC \", sep=\"     \")\n",
    "print(\"for enh_es_fb                \", \"%.4f\" %PR_result9.get_mean(), \"%.5f\" %ROC_result10.get_mean(), sep=\"  \")\n",
    "print(\"for enh_es_800               \", \"%.4f\" %PR_result6.get_mean(), \"%.5f\" %ROC_result7.get_mean(), sep=\"  \")\n",
    "print(\"for enh_es_200               \", \"%.4f\" %PR_result2.get_mean(), \"%.5f\" %ROC_result1.get_mean(), sep=\"  \")\n",
    "print(\"for enh_es_mb                \", \"%.4f\" %PR_result4.get_mean(), \"%.5f\" %ROC_result3.get_mean(), sep=\"  \")\n",
    "print(\"*Results with random5240.fa \", \"PR\", \"ROC \", sep=\"     \")\n",
    "print(\"for enh_es_800               \", \"%.4f\" %PR_result11.get_mean(), \"%.5f\" %ROC_result12.get_mean(), sep=\"  \")\n",
    "print(\"for enh_es_200               \", \"%.4f\" %PR_result13.get_mean(), \"%.5f\" %ROC_result14.get_mean(), sep=\"  \")\n",
    "print(\"for enh_es_fb                \", \"%.4f\" %PR_result15.get_mean(), \"%.5f\" %ROC_result16.get_mean(), sep=\"  \")\n",
    "print(\"for enh_es_mb                \", \"%.4f\" %PR_result17.get_mean(), \"%.5f\" %ROC_result18.get_mean(), sep=\"  \")\n",
    "print(\"*Results with random12000.fa\", \"PR\", \"ROC \", sep=\"     \")\n",
    "print(\"for enh_es_fb                \", \"%.4f\" %PR_result21.get_mean(), \"%.5f\" %ROC_result22.get_mean(), sep=\"  \")\n",
    "print(\"for enh_es_200               \", \"%.4f\" %PR_result23.get_mean(), \"%.5f\" %ROC_result24.get_mean(), sep=\"  \")\n",
    "print(\"for enh_es_800               \", \"%.4f\" %PR_result25.get_mean(), \"%.5f\" %ROC_result26.get_mean(), sep=\"  \")\n",
    "print(\"for enh_neuact_200           \", \"%.4f\" %PR_result27.get_mean(), \"%.5f\" %ROC_result28.get_mean(), sep=\"  \")\n",
    "print(\"for enh_mb                   \", \"%.4f\" %PR_result9.get_mean(), \"%.5f\" %ROC_result9.get_mean(), sep=\"  \")"
   ]
  },
  {
   "cell_type": "code",
   "execution_count": 11,
   "metadata": {},
   "outputs": [
    {
     "name": "stdout",
     "output_type": "stream",
     "text": [
      "Different kernels with random12000 as positives and enh_es_200 ans negatives:\n",
      "Kernel type                     PR         ROC\n",
      "LocalAlignmentStringKernel      0.9380     0.97009\n",
      "OligoStringKernel               0.9433     0.96943\n",
      "GaussianMatchStringKernel       0.5377     0.54570\n"
     ]
    }
   ],
   "source": [
    "print(\"Different kernels with random12000 as positives and enh_es_200 ans negatives:\")\n",
    "print(\"Kernel type            \", \"PR\", \"ROC\", sep = \"         \")\n",
    "print(\"LocalAlignmentStringKernel \", \"%.4f\" %PR_result23.get_mean(), \"%.5f\" %ROC_result24.get_mean(), sep = \"     \")\n",
    "print(\"OligoStringKernel          \", \"%.4f\" %PR_result_diff1.get_mean(), \"%.5f\" %ROC_result_diff2.get_mean(), sep = \"     \" )\n",
    "print(\"GaussianMatchStringKernel  \", \"%.4f\" %PR_result_diff7.get_mean(), \"%.5f\" %ROC_result_diff8.get_mean(), sep = \"     \" )"
   ]
  },
  {
   "cell_type": "markdown",
   "metadata": {},
   "source": [
    "Далее следует 34 ячейки с очень схожим кодом, изменения во входных данных и переменных для получения ответа."
   ]
  },
  {
   "cell_type": "code",
   "execution_count": 1,
   "metadata": {},
   "outputs": [
    {
     "name": "stdout",
     "output_type": "stream",
     "text": [
      "mean area under the ROC curve 0.9993646739240609\n"
     ]
    }
   ],
   "source": [
    "from array import *\n",
    "import shogun\n",
    "import numpy\n",
    "from shogun import LinearStringKernel\n",
    "from shogun import WeightedDegreeStringKernel, SpectrumMismatchRBFKernel, WeightedDegreePositionStringKernel, GaussianKernel, LocalAlignmentStringKernel\n",
    "from shogun import StringWordFeatures, StringUlongFeatures, StringCharFeatures, DNA, BinaryLabels\n",
    "from shogun import PRCEvaluation, ROCEvaluation, LibSVM, MSG_INFO, KernelMachine, CSVM, IdentityKernelNormalizer\n",
    "from shogun import CrossValidation, CrossValidationResult, StratifiedCrossValidationSplitting\n",
    "\n",
    "def read_fastafile(filename):\n",
    "    \"\"\"\n",
    "    Fasta file containing whole genome must\n",
    "    have chomosomes ID as fastaID names\n",
    "    \"\"\"\n",
    "    id = ''\n",
    "    ids = []\n",
    "    seqs = []\n",
    "    seq = []\n",
    "    minimal = 1000000000000000000\n",
    "    with open(filename, 'r') as fh:\n",
    "        for line in fh:\n",
    "            if line[0] == '>':\n",
    "                regionID=line[1:].rstrip('\\n')\n",
    "                regionID = regionID.split(\":\")[0]\n",
    "                ids.append(regionID)\n",
    "                if seq != []: seqs.append(\"\".join(seq))\n",
    "                seq = []\n",
    "            else:\n",
    "                seq.append(line.rstrip('\\n').upper())\n",
    "                if (len(line.rstrip('\\n').upper()) < minimal):\n",
    "                    minimal = len(line.rstrip('\\n').upper())\n",
    "        if seq != []:\n",
    "            seqs.append(\"\".join(seq))\n",
    "                \n",
    "    return seqs, ids, minimal\n",
    "\n",
    "\n",
    "g_revcomp_mapping = []\n",
    "g_kmers_list = []\n",
    "\n",
    "def generate_kmers_list(kmerlen):\n",
    "    nts = ['A', 'C', 'G', 'T']\n",
    "    kmers = []\n",
    "    kmers.append('')\n",
    "    l = 0\n",
    "    while l < kmerlen:\n",
    "        imers = []\n",
    "        for imer in kmers:\n",
    "            for nt in nts:\n",
    "                imers.append(imer + nt)\n",
    "        kmers = imers\n",
    "        l += 1\n",
    "\n",
    "    return kmers\n",
    "\n",
    "\n",
    "def generate_revcomp_mapping_table(kmerlen):\n",
    "    kmers = g_kmers_list\n",
    "\n",
    "    rc = {'A':'T', 'G':'C', 'C':'G', 'T':'A'}\n",
    "    revcomp = lambda s: ''.join([rc[s[i]] for i in range(len(s) - 1, -1, -1)])\n",
    "\n",
    "    kmer_id_dict = {}\n",
    "    for i in range(len(kmers)):\n",
    "        kmer_id_dict[kmers[i]] = i\n",
    "\n",
    "    revcomp_mapping_table = []\n",
    "    for kmerid in range(len(kmers)):\n",
    "        rc_id = kmer_id_dict[revcomp(kmers[kmerid])]\n",
    "        if rc_id < kmerid:\n",
    "            revcomp_mapping_table.append(rc_id)\n",
    "        else:\n",
    "            revcomp_mapping_table.append(kmerid)\n",
    "\n",
    "    return revcomp_mapping_table\n",
    "\n",
    "\n",
    "\n",
    "negatives1, ids2, minimal2 = read_fastafile('enh_es_200.fa')\n",
    "positives1, ids1, minimal1 = read_fastafile('random4000.fa')\n",
    "cut = min(minimal1, minimal2)\n",
    "seqs = positives1 + negatives1\n",
    "\n",
    "labels = [numpy.double(1)] * len(positives1) + [numpy.double(-1)] * len(negatives1)\n",
    "g_kmers_list = generate_kmers_list(6)\n",
    "g_revcomp_mapping = generate_revcomp_mapping_table(6)\n",
    "feats_tr = StringCharFeatures(DNA)\n",
    "feats_tr.set_features(seqs)\n",
    "kernel = LocalAlignmentStringKernel(feats_tr, feats_tr)\n",
    "\n",
    "normaliz = IdentityKernelNormalizer()\n",
    "normaliz.normalize(0, 0, 250)\n",
    "kernel.set_normalizer(normaliz)\n",
    "splitting_strategy=StratifiedCrossValidationSplitting(BinaryLabels(numpy.array(labels)), 3)\n",
    "evaluation_criterium2 = ROCEvaluation()\n",
    "svmC = 1.0\n",
    "classifier_SVM1 = LibSVM(svmC, kernel, BinaryLabels(numpy.array(labels)))\n",
    "cross_validation2 = CrossValidation(classifier_SVM1, feats_tr, BinaryLabels(numpy.array(labels)),splitting_strategy, evaluation_criterium2, False)\n",
    "\n",
    "results2 = cross_validation2.evaluate()\n",
    "\n",
    "ROC_result1 = CrossValidationResult.obtain_from_generic(results2)\n",
    "print(\"mean area under the ROC curve\", ROC_result1.get_mean())"
   ]
  },
  {
   "cell_type": "code",
   "execution_count": null,
   "metadata": {},
   "outputs": [],
   "source": []
  },
  {
   "cell_type": "code",
   "execution_count": 8,
   "metadata": {},
   "outputs": [
    {
     "name": "stdout",
     "output_type": "stream",
     "text": [
      "mean area under the PR curve 0.9864718220889416\n"
     ]
    }
   ],
   "source": [
    "negatives1, ids2, minimal2 = read_fastafile('enh_es_200.fa')\n",
    "positives1, ids1, minimal1 = read_fastafile('random4000.fa')\n",
    "cut = min(minimal1, minimal2)\n",
    "seqs = positives1 + negatives1\n",
    "\n",
    "labels = [numpy.double(1)] * len(positives1) + [numpy.double(-1)] * len(negatives1)\n",
    "g_kmers_list = generate_kmers_list(6)\n",
    "g_revcomp_mapping = generate_revcomp_mapping_table(6)\n",
    "feats_tr = StringCharFeatures(DNA)\n",
    "feats_tr.set_features(seqs)\n",
    "kernel = LocalAlignmentStringKernel(feats_tr, feats_tr)\n",
    "\n",
    "normaliz = IdentityKernelNormalizer()\n",
    "normaliz.normalize(0, 0, 250)\n",
    "kernel.set_normalizer(normaliz)\n",
    "splitting_strategy=StratifiedCrossValidationSplitting(BinaryLabels(numpy.array(labels)), 3)\n",
    "evaluation_criterium1 = PRCEvaluation()\n",
    "svmC = 1.0\n",
    "classifier_SVM1 = LibSVM(svmC, kernel, BinaryLabels(numpy.array(labels)))\n",
    "cross_validation1 = CrossValidation(classifier_SVM1, feats_tr, BinaryLabels(numpy.array(labels)),splitting_strategy, evaluation_criterium1, False)\n",
    "\n",
    "results1 = cross_validation1.evaluate()\n",
    "\n",
    "PR_result2 = CrossValidationResult.obtain_from_generic(results1)\n",
    "print(\"mean area under the PR curve\", PR_result2.get_mean())"
   ]
  },
  {
   "cell_type": "code",
   "execution_count": 10,
   "metadata": {},
   "outputs": [
    {
     "name": "stdout",
     "output_type": "stream",
     "text": [
      "mean area under the ROC curve 0.876113260856213\n"
     ]
    }
   ],
   "source": [
    "negatives1, ids2, minimal2 = read_fastafile('enh_es_800.fa')\n",
    "positives1, ids1, minimal1 = read_fastafile('random4000.fa')\n",
    "cut = min(minimal1, minimal2)\n",
    "seqs = positives1 + negatives1\n",
    "\n",
    "labels = [numpy.double(1)] * len(positives1) + [numpy.double(-1)] * len(negatives1)\n",
    "g_kmers_list = generate_kmers_list(6)\n",
    "g_revcomp_mapping = generate_revcomp_mapping_table(6)\n",
    "feats_tr = StringCharFeatures(DNA)\n",
    "feats_tr.set_features(seqs)\n",
    "kernel = LocalAlignmentStringKernel(feats_tr, feats_tr)\n",
    "\n",
    "normaliz = IdentityKernelNormalizer()\n",
    "normaliz.normalize(0, 0, 250)\n",
    "kernel.set_normalizer(normaliz)\n",
    "splitting_strategy=StratifiedCrossValidationSplitting(BinaryLabels(numpy.array(labels)), 3)\n",
    "evaluation_criterium2 = ROCEvaluation()\n",
    "svmC = 1.0\n",
    "classifier_SVM = LibSVM(svmC, kernel, BinaryLabels(numpy.array(labels)))\n",
    "cross_validation3 = CrossValidation(classifier_SVM, feats_tr, BinaryLabels(numpy.array(labels)),splitting_strategy, evaluation_criterium2, False)\n",
    "\n",
    "results3 = cross_validation3.evaluate()\n",
    "\n",
    "ROC_result3 = CrossValidationResult.obtain_from_generic(results3)\n",
    "print(\"mean area under the ROC curve\", ROC_result3.get_mean())"
   ]
  },
  {
   "cell_type": "code",
   "execution_count": 11,
   "metadata": {},
   "outputs": [
    {
     "name": "stdout",
     "output_type": "stream",
     "text": [
      "mean area under the PR curve 0.9105886916868887\n"
     ]
    }
   ],
   "source": [
    "negatives1, ids2, minimal2 = read_fastafile('enh_es_800.fa')\n",
    "positives1, ids1, minimal1 = read_fastafile('random4000.fa')\n",
    "cut = min(minimal1, minimal2)\n",
    "seqs = positives1 + negatives1\n",
    "\n",
    "labels = [numpy.double(1)] * len(positives1) + [numpy.double(-1)] * len(negatives1)\n",
    "g_kmers_list = generate_kmers_list(6)\n",
    "g_revcomp_mapping = generate_revcomp_mapping_table(6)\n",
    "feats_tr = StringCharFeatures(DNA)\n",
    "feats_tr.set_features(seqs)\n",
    "kernel = LocalAlignmentStringKernel(feats_tr, feats_tr)\n",
    "\n",
    "normaliz = IdentityKernelNormalizer()\n",
    "normaliz.normalize(0, 0, 250)\n",
    "kernel.set_normalizer(normaliz)\n",
    "splitting_strategy=StratifiedCrossValidationSplitting(BinaryLabels(numpy.array(labels)), 3)\n",
    "evaluation_criterium1 = PRCEvaluation()\n",
    "svmC = 1.0\n",
    "classifier_SVM2 = LibSVM(svmC, kernel, BinaryLabels(numpy.array(labels)))\n",
    "cross_validation4 = CrossValidation(classifier_SVM2, feats_tr, BinaryLabels(numpy.array(labels)),splitting_strategy, evaluation_criterium1, False)\n",
    "\n",
    "results4 = cross_validation4.evaluate()\n",
    "\n",
    "PR_result4 = CrossValidationResult.obtain_from_generic(results4)\n",
    "print(\"mean area under the PR curve\", PR_result4.get_mean())"
   ]
  },
  {
   "cell_type": "code",
   "execution_count": 12,
   "metadata": {},
   "outputs": [
    {
     "name": "stdout",
     "output_type": "stream",
     "text": [
      "mean area under the ROC curve 0.8790000614212888\n"
     ]
    }
   ],
   "source": [
    "negatives1, ids2, minimal2 = read_fastafile('enh_es_800.fa')\n",
    "positives1, ids1, minimal1 = read_fastafile('random4000.fa')\n",
    "cut = min(minimal1, minimal2)\n",
    "seqs = positives1 + negatives1\n",
    "\n",
    "labels = [numpy.double(1)] * len(positives1) + [numpy.double(-1)] * len(negatives1)\n",
    "g_kmers_list = generate_kmers_list(6)\n",
    "g_revcomp_mapping = generate_revcomp_mapping_table(6)\n",
    "feats_tr = StringCharFeatures(DNA)\n",
    "feats_tr.set_features(seqs)\n",
    "kernel = LocalAlignmentStringKernel(feats_tr, feats_tr)\n",
    "\n",
    "normaliz = IdentityKernelNormalizer()\n",
    "normaliz.normalize(0, 0, 250)\n",
    "kernel.set_normalizer(normaliz)\n",
    "splitting_strategy=StratifiedCrossValidationSplitting(BinaryLabels(numpy.array(labels)), 3)\n",
    "evaluation_criterium2 = ROCEvaluation()\n",
    "svmC = 1.0\n",
    "classifier_SVM = LibSVM(svmC, kernel, BinaryLabels(numpy.array(labels)))\n",
    "cross_validation5 = CrossValidation(classifier_SVM, feats_tr, BinaryLabels(numpy.array(labels)),splitting_strategy, evaluation_criterium2, False)\n",
    "\n",
    "results5 = cross_validation5.evaluate()\n",
    "\n",
    "ROC_result5 = CrossValidationResult.obtain_from_generic(results5)\n",
    "print(\"mean area under the ROC curve\", ROC_result5.get_mean())"
   ]
  },
  {
   "cell_type": "code",
   "execution_count": 13,
   "metadata": {},
   "outputs": [
    {
     "name": "stdout",
     "output_type": "stream",
     "text": [
      "mean area under the PR curve 0.9876543209876544\n"
     ]
    }
   ],
   "source": [
    "negatives1, ids2, minimal2 = read_fastafile('enh_neuact_200.fa')\n",
    "positives1, ids1, minimal1 = read_fastafile('random4000.fa')\n",
    "cut = min(minimal1, minimal2)\n",
    "seqs = positives1 + negatives1\n",
    "\n",
    "labels = [numpy.double(1)] * len(positives1) + [numpy.double(-1)] * len(negatives1)\n",
    "g_kmers_list = generate_kmers_list(6)\n",
    "g_revcomp_mapping = generate_revcomp_mapping_table(6)\n",
    "feats_tr = StringCharFeatures(DNA)\n",
    "feats_tr.set_features(seqs)\n",
    "kernel = LocalAlignmentStringKernel(feats_tr, feats_tr)\n",
    "\n",
    "normaliz = IdentityKernelNormalizer()\n",
    "normaliz.normalize(0, 0, 250)\n",
    "kernel.set_normalizer(normaliz)\n",
    "splitting_strategy=StratifiedCrossValidationSplitting(BinaryLabels(numpy.array(labels)), 3)\n",
    "evaluation_criterium1 = PRCEvaluation()\n",
    "svmC = 1.0\n",
    "classifier_SVM = LibSVM(svmC, kernel, BinaryLabels(numpy.array(labels)))\n",
    "cross_validation6 = CrossValidation(classifier_SVM, feats_tr, BinaryLabels(numpy.array(labels)),splitting_strategy, evaluation_criterium1, False)\n",
    "\n",
    "results6 = cross_validation6.evaluate()\n",
    "\n",
    "PR_result6 = CrossValidationResult.obtain_from_generic(results6)\n",
    "print(\"mean area under the PR curve\", PR_result6.get_mean())"
   ]
  },
  {
   "cell_type": "code",
   "execution_count": 14,
   "metadata": {},
   "outputs": [
    {
     "name": "stdout",
     "output_type": "stream",
     "text": [
      "mean area under the ROC curve 1.0\n"
     ]
    }
   ],
   "source": [
    "negatives1, ids2, minimal2 = read_fastafile('enh_neuact_200.fa')\n",
    "positives1, ids1, minimal1 = read_fastafile('random4000.fa')\n",
    "cut = min(minimal1, minimal2)\n",
    "seqs = positives1 + negatives1\n",
    "\n",
    "labels = [numpy.double(1)] * len(positives1) + [numpy.double(-1)] * len(negatives1)\n",
    "g_kmers_list = generate_kmers_list(6)\n",
    "g_revcomp_mapping = generate_revcomp_mapping_table(6)\n",
    "feats_tr = StringCharFeatures(DNA)\n",
    "feats_tr.set_features(seqs)\n",
    "kernel = LocalAlignmentStringKernel(feats_tr, feats_tr)\n",
    "\n",
    "normaliz = IdentityKernelNormalizer()\n",
    "normaliz.normalize(0, 0, 250)\n",
    "kernel.set_normalizer(normaliz)\n",
    "splitting_strategy=StratifiedCrossValidationSplitting(BinaryLabels(numpy.array(labels)), 3)\n",
    "evaluation_criterium2 = ROCEvaluation()\n",
    "svmC = 1.0\n",
    "classifier_SVM = LibSVM(svmC, kernel, BinaryLabels(numpy.array(labels)))\n",
    "cross_validation7 = CrossValidation(classifier_SVM, feats_tr, BinaryLabels(numpy.array(labels)),splitting_strategy, evaluation_criterium2, False)\n",
    "\n",
    "results7 = cross_validation7.evaluate()\n",
    "\n",
    "ROC_result7 = CrossValidationResult.obtain_from_generic(results7)\n",
    "print(\"mean area under the ROC curve\", ROC_result7.get_mean())"
   ]
  },
  {
   "cell_type": "code",
   "execution_count": 15,
   "metadata": {},
   "outputs": [
    {
     "name": "stdout",
     "output_type": "stream",
     "text": [
      "mean area under the PR curve 0.7646228119478065\n"
     ]
    }
   ],
   "source": [
    "negatives1, ids2, minimal2 = read_fastafile('enh_fb.fa')\n",
    "positives1, ids1, minimal1 = read_fastafile('random4000.fa')\n",
    "cut = min(minimal1, minimal2)\n",
    "seqs = positives1 + negatives1\n",
    "\n",
    "labels = [numpy.double(1)] * len(positives1) + [numpy.double(-1)] * len(negatives1)\n",
    "g_kmers_list = generate_kmers_list(6)\n",
    "g_revcomp_mapping = generate_revcomp_mapping_table(6)\n",
    "feats_tr = StringCharFeatures(DNA)\n",
    "feats_tr.set_features(seqs)\n",
    "kernel = LocalAlignmentStringKernel(feats_tr, feats_tr)\n",
    "\n",
    "normaliz = IdentityKernelNormalizer()\n",
    "normaliz.normalize(0, 0, 250)\n",
    "kernel.set_normalizer(normaliz)\n",
    "splitting_strategy=StratifiedCrossValidationSplitting(BinaryLabels(numpy.array(labels)), 3)\n",
    "evaluation_criterium1 = PRCEvaluation()\n",
    "svmC = 1.0\n",
    "classifier_SVM = LibSVM(svmC, kernel, BinaryLabels(numpy.array(labels)))\n",
    "cross_validation8 = CrossValidation(classifier_SVM, feats_tr, BinaryLabels(numpy.array(labels)),splitting_strategy, evaluation_criterium1, False)\n",
    "\n",
    "results8 = cross_validation8.evaluate()\n",
    "\n",
    "PR_result8 = CrossValidationResult.obtain_from_generic(results8)\n",
    "print(\"mean area under the PR curve\", PR_result8.get_mean())"
   ]
  },
  {
   "cell_type": "code",
   "execution_count": 16,
   "metadata": {},
   "outputs": [
    {
     "name": "stdout",
     "output_type": "stream",
     "text": [
      "mean area under the ROC curve 0.7062731417019915\n"
     ]
    }
   ],
   "source": [
    "\n",
    "negatives1, ids2, minimal2 = read_fastafile('enh_fb.fa')\n",
    "positives1, ids1, minimal1 = read_fastafile('random4000.fa')\n",
    "cut = min(minimal1, minimal2)\n",
    "seqs = positives1 + negatives1\n",
    "\n",
    "labels = [numpy.double(1)] * len(positives1) + [numpy.double(-1)] * len(negatives1)\n",
    "g_kmers_list = generate_kmers_list(6)\n",
    "g_revcomp_mapping = generate_revcomp_mapping_table(6)\n",
    "feats_tr = StringCharFeatures(DNA)\n",
    "feats_tr.set_features(seqs)\n",
    "kernel = LocalAlignmentStringKernel(feats_tr, feats_tr)\n",
    "\n",
    "normaliz = IdentityKernelNormalizer()\n",
    "normaliz.normalize(0, 0, 250)\n",
    "kernel.set_normalizer(normaliz)\n",
    "splitting_strategy=StratifiedCrossValidationSplitting(BinaryLabels(numpy.array(labels)), 3)\n",
    "evaluation_criterium2 = ROCEvaluation()\n",
    "svmC = 1.0\n",
    "classifier_SVM = LibSVM(svmC, kernel, BinaryLabels(numpy.array(labels)))\n",
    "cross_validation9 = CrossValidation(classifier_SVM, feats_tr, BinaryLabels(numpy.array(labels)),splitting_strategy, evaluation_criterium2, False)\n",
    "\n",
    "results9 = cross_validation9.evaluate()\n",
    "\n",
    "ROC_result9 = CrossValidationResult.obtain_from_generic(results9)\n",
    "print(\"mean area under the ROC curve\", ROC_result9.get_mean())"
   ]
  },
  {
   "cell_type": "code",
   "execution_count": 17,
   "metadata": {},
   "outputs": [
    {
     "name": "stdout",
     "output_type": "stream",
     "text": [
      "mean area under the PR curve 0.7401003206029638\n"
     ]
    }
   ],
   "source": [
    "negatives1, ids2, minimal2 = read_fastafile('enh_mb.fa')\n",
    "positives1, ids1, minimal1 = read_fastafile('random4000.fa')\n",
    "cut = min(minimal1, minimal2)\n",
    "seqs = positives1 + negatives1\n",
    "\n",
    "labels = [numpy.double(1)] * len(positives1) + [numpy.double(-1)] * len(negatives1)\n",
    "g_kmers_list = generate_kmers_list(6)\n",
    "g_revcomp_mapping = generate_revcomp_mapping_table(6)\n",
    "feats_tr = StringCharFeatures(DNA)\n",
    "feats_tr.set_features(seqs)\n",
    "kernel = LocalAlignmentStringKernel(feats_tr, feats_tr)\n",
    "\n",
    "normaliz = IdentityKernelNormalizer()\n",
    "normaliz.normalize(0, 0, 250)\n",
    "kernel.set_normalizer(normaliz)\n",
    "splitting_strategy=StratifiedCrossValidationSplitting(BinaryLabels(numpy.array(labels)), 3)\n",
    "evaluation_criterium1 = PRCEvaluation()\n",
    "svmC = 1.0\n",
    "classifier_SVM = LibSVM(svmC, kernel, BinaryLabels(numpy.array(labels)))\n",
    "cross_validation9 = CrossValidation(classifier_SVM, feats_tr, BinaryLabels(numpy.array(labels)),splitting_strategy, evaluation_criterium1, False)\n",
    "\n",
    "results9 = cross_validation9.evaluate()\n",
    "\n",
    "PR_result9 = CrossValidationResult.obtain_from_generic(results9)\n",
    "print(\"mean area under the PR curve\", PR_result9.get_mean())"
   ]
  },
  {
   "cell_type": "code",
   "execution_count": 18,
   "metadata": {},
   "outputs": [
    {
     "name": "stdout",
     "output_type": "stream",
     "text": [
      "mean area under the ROC curve 0.7057085575604094\n"
     ]
    }
   ],
   "source": [
    "negatives1, ids2, minimal2 = read_fastafile('enh_mb.fa')\n",
    "positives1, ids1, minimal1 = read_fastafile('random4000.fa')\n",
    "cut = min(minimal1, minimal2)\n",
    "seqs = positives1 + negatives1\n",
    "\n",
    "labels = [numpy.double(1)] * len(positives1) + [numpy.double(-1)] * len(negatives1)\n",
    "g_kmers_list = generate_kmers_list(6)\n",
    "g_revcomp_mapping = generate_revcomp_mapping_table(6)\n",
    "feats_tr = StringCharFeatures(DNA)\n",
    "feats_tr.set_features(seqs)\n",
    "kernel = LocalAlignmentStringKernel(feats_tr, feats_tr)\n",
    "\n",
    "normaliz = IdentityKernelNormalizer()\n",
    "normaliz.normalize(0, 0, 250)\n",
    "kernel.set_normalizer(normaliz)\n",
    "splitting_strategy=StratifiedCrossValidationSplitting(BinaryLabels(numpy.array(labels)), 3)\n",
    "evaluation_criterium2 = ROCEvaluation()\n",
    "svmC = 1.0\n",
    "classifier_SVM = LibSVM(svmC, kernel, BinaryLabels(numpy.array(labels)))\n",
    "cross_validation10 = CrossValidation(classifier_SVM, feats_tr, BinaryLabels(numpy.array(labels)),splitting_strategy, evaluation_criterium2, False)\n",
    "\n",
    "results10 = cross_validation10.evaluate()\n",
    "\n",
    "ROC_result10 = CrossValidationResult.obtain_from_generic(results10)\n",
    "print(\"mean area under the ROC curve\", ROC_result10.get_mean())"
   ]
  },
  {
   "cell_type": "code",
   "execution_count": 20,
   "metadata": {},
   "outputs": [
    {
     "name": "stdout",
     "output_type": "stream",
     "text": [
      "mean area under the PR curve 0.9849992461932761\n"
     ]
    }
   ],
   "source": [
    "negatives1, ids2, minimal2 = read_fastafile('enh_es_800.fa')\n",
    "positives1, ids1, minimal1 = read_fastafile('random5240.fa')\n",
    "cut = min(minimal1, minimal2)\n",
    "seqs = positives1 + negatives1\n",
    "\n",
    "labels = [numpy.double(1)] * len(positives1) + [numpy.double(-1)] * len(negatives1)\n",
    "g_kmers_list = generate_kmers_list(6)\n",
    "g_revcomp_mapping = generate_revcomp_mapping_table(6)\n",
    "feats_tr = StringCharFeatures(DNA)\n",
    "feats_tr.set_features(seqs)\n",
    "kernel = LocalAlignmentStringKernel(feats_tr, feats_tr)\n",
    "\n",
    "splitting_strategy=StratifiedCrossValidationSplitting(BinaryLabels(numpy.array(labels)), 3)\n",
    "evaluation_criterium1 = PRCEvaluation()\n",
    "svmC = 1.0\n",
    "classifier_SVM = LibSVM(svmC, kernel, BinaryLabels(numpy.array(labels)))\n",
    "cross_validation11 = CrossValidation(classifier_SVM, feats_tr, BinaryLabels(numpy.array(labels)),splitting_strategy, evaluation_criterium1, False)\n",
    "\n",
    "results11 = cross_validation11.evaluate()\n",
    "\n",
    "PR_result11 = CrossValidationResult.obtain_from_generic(results11)\n",
    "print(\"mean area under the PR curve\", PR_result11.get_mean())"
   ]
  },
  {
   "cell_type": "code",
   "execution_count": 21,
   "metadata": {},
   "outputs": [
    {
     "name": "stdout",
     "output_type": "stream",
     "text": [
      "mean area under the ROC curve 1.0\n"
     ]
    }
   ],
   "source": [
    "negatives1, ids2, minimal2 = read_fastafile('enh_es_800.fa')\n",
    "positives1, ids1, minimal1 = read_fastafile('random5240.fa')\n",
    "cut = min(minimal1, minimal2)\n",
    "seqs = positives1 + negatives1\n",
    "\n",
    "labels = [numpy.double(1)] * len(positives1) + [numpy.double(-1)] * len(negatives1)\n",
    "g_kmers_list = generate_kmers_list(6)\n",
    "g_revcomp_mapping = generate_revcomp_mapping_table(6)\n",
    "feats_tr = StringCharFeatures(DNA)\n",
    "feats_tr.set_features(seqs)\n",
    "kernel = LocalAlignmentStringKernel(feats_tr, feats_tr)\n",
    "\n",
    "normaliz = IdentityKernelNormalizer()\n",
    "normaliz.normalize(0, 0, 250)\n",
    "kernel.set_normalizer(normaliz)\n",
    "splitting_strategy=StratifiedCrossValidationSplitting(BinaryLabels(numpy.array(labels)), 3)\n",
    "evaluation_criterium2 = ROCEvaluation()\n",
    "svmC = 1.0\n",
    "classifier_SVM = LibSVM(svmC, kernel, BinaryLabels(numpy.array(labels)))\n",
    "cross_validation12 = CrossValidation(classifier_SVM, feats_tr, BinaryLabels(numpy.array(labels)),splitting_strategy, evaluation_criterium2, False)\n",
    "\n",
    "results12 = cross_validation12.evaluate()\n",
    "\n",
    "ROC_result12 = CrossValidationResult.obtain_from_generic(results12)\n",
    "print(\"mean area under the ROC curve\", ROC_result12.get_mean())"
   ]
  },
  {
   "cell_type": "code",
   "execution_count": 22,
   "metadata": {},
   "outputs": [
    {
     "name": "stdout",
     "output_type": "stream",
     "text": [
      "mean area under the PR curve 0.9849255366025117\n",
      "mean area under the ROC curve 0.9999127171161736\n"
     ]
    }
   ],
   "source": [
    "negatives1, ids2, minimal2 = read_fastafile('enh_fb.fa')\n",
    "positives1, ids1, minimal1 = read_fastafile('random5240.fa')\n",
    "cut = min(minimal1, minimal2)\n",
    "seqs = positives1 + negatives1\n",
    "\n",
    "labels = [numpy.double(1)] * len(positives1) + [numpy.double(-1)] * len(negatives1)\n",
    "g_kmers_list = generate_kmers_list(6)\n",
    "g_revcomp_mapping = generate_revcomp_mapping_table(6)\n",
    "feats_tr = StringCharFeatures(DNA)\n",
    "feats_tr.set_features(seqs)\n",
    "kernel = LocalAlignmentStringKernel(feats_tr, feats_tr)\n",
    "\n",
    "normaliz = IdentityKernelNormalizer()\n",
    "normaliz.normalize(0, 0, 250)\n",
    "kernel.set_normalizer(normaliz)\n",
    "splitting_strategy=StratifiedCrossValidationSplitting(BinaryLabels(numpy.array(labels)), 3)\n",
    "evaluation_criterium1 = PRCEvaluation()\n",
    "svmC = 1.0\n",
    "classifier_SVM = LibSVM(svmC, kernel, BinaryLabels(numpy.array(labels)))\n",
    "cross_validation15 = CrossValidation(classifier_SVM, feats_tr, BinaryLabels(numpy.array(labels)),splitting_strategy, evaluation_criterium1, False)\n",
    "\n",
    "results15 = cross_validation15.evaluate()\n",
    "\n",
    "PR_result15 = CrossValidationResult.obtain_from_generic(results15)\n",
    "print(\"mean area under the PR curve\", PR_result15.get_mean())\n",
    "evaluation_criterium2 = ROCEvaluation()\n",
    "\n",
    "cross_validation16 = CrossValidation(classifier_SVM, feats_tr, BinaryLabels(numpy.array(labels)),splitting_strategy, evaluation_criterium2, False)\n",
    "\n",
    "results16 = cross_validation16.evaluate()\n",
    "\n",
    "ROC_result16 = CrossValidationResult.obtain_from_generic(results16)\n",
    "print(\"mean area under the ROC curve\", ROC_result16.get_mean())"
   ]
  },
  {
   "cell_type": "code",
   "execution_count": 23,
   "metadata": {},
   "outputs": [
    {
     "name": "stdout",
     "output_type": "stream",
     "text": [
      "mean area under the PR curve 0.9847747579487257\n",
      "mean area under the ROC curve 0.9999113946482368\n"
     ]
    }
   ],
   "source": [
    "negatives1, ids2, minimal2 = read_fastafile('enh_mb.fa')\n",
    "positives1, ids1, minimal1 = read_fastafile('random5240.fa')\n",
    "cut = min(minimal1, minimal2)\n",
    "seqs = positives1 + negatives1\n",
    "\n",
    "labels = [numpy.double(1)] * len(positives1) + [numpy.double(-1)] * len(negatives1)\n",
    "g_kmers_list = generate_kmers_list(6)\n",
    "g_revcomp_mapping = generate_revcomp_mapping_table(6)\n",
    "feats_tr = StringCharFeatures(DNA)\n",
    "feats_tr.set_features(seqs)\n",
    "kernel = LocalAlignmentStringKernel(feats_tr, feats_tr)\n",
    "\n",
    "normaliz = IdentityKernelNormalizer()\n",
    "normaliz.normalize(0, 0, 250)\n",
    "kernel.set_normalizer(normaliz)\n",
    "splitting_strategy=StratifiedCrossValidationSplitting(BinaryLabels(numpy.array(labels)), 3)\n",
    "evaluation_criterium1 = PRCEvaluation()\n",
    "svmC = 1.0\n",
    "classifier_SVM = LibSVM(svmC, kernel, BinaryLabels(numpy.array(labels)))\n",
    "cross_validation17 = CrossValidation(classifier_SVM, feats_tr, BinaryLabels(numpy.array(labels)),splitting_strategy, evaluation_criterium1, False)\n",
    "\n",
    "results17 = cross_validation17.evaluate()\n",
    "\n",
    "PR_result17 = CrossValidationResult.obtain_from_generic(results17)\n",
    "print(\"mean area under the PR curve\", PR_result17.get_mean())\n",
    "evaluation_criterium2 = ROCEvaluation()\n",
    "\n",
    "cross_validation18 = CrossValidation(classifier_SVM, feats_tr, BinaryLabels(numpy.array(labels)),splitting_strategy, evaluation_criterium2, False)\n",
    "\n",
    "results18 = cross_validation16.evaluate()\n",
    "\n",
    "ROC_result18 = CrossValidationResult.obtain_from_generic(results18)\n",
    "print(\"mean area under the ROC curve\", ROC_result18.get_mean())"
   ]
  },
  {
   "cell_type": "code",
   "execution_count": 24,
   "metadata": {},
   "outputs": [
    {
     "name": "stdout",
     "output_type": "stream",
     "text": [
      "mean area under the PR curve 0.9904151404151403\n",
      "mean area under the ROC curve 1.0\n"
     ]
    }
   ],
   "source": [
    "negatives1, ids2, minimal2 = read_fastafile('enh_fb.fa')\n",
    "positives1, ids1, minimal1 = read_fastafile('random12000.fa')\n",
    "cut = min(minimal1, minimal2)\n",
    "seqs = positives1 + negatives1\n",
    "\n",
    "labels = [numpy.double(1)] * len(positives1) + [numpy.double(-1)] * len(negatives1)\n",
    "g_kmers_list = generate_kmers_list(6)\n",
    "g_revcomp_mapping = generate_revcomp_mapping_table(6)\n",
    "feats_tr = StringCharFeatures(DNA)\n",
    "feats_tr.set_features(seqs)\n",
    "kernel = LocalAlignmentStringKernel(feats_tr, feats_tr)\n",
    "\n",
    "normaliz = IdentityKernelNormalizer()\n",
    "normaliz.normalize(0, 0, 250)\n",
    "kernel.set_normalizer(normaliz)\n",
    "splitting_strategy=StratifiedCrossValidationSplitting(BinaryLabels(numpy.array(labels)), 3)\n",
    "evaluation_criterium1 = PRCEvaluation()\n",
    "svmC = 1.0\n",
    "classifier_SVM = LibSVM(svmC, kernel, BinaryLabels(numpy.array(labels)))\n",
    "cross_validation21 = CrossValidation(classifier_SVM, feats_tr, BinaryLabels(numpy.array(labels)),splitting_strategy, evaluation_criterium1, False)\n",
    "\n",
    "results21 = cross_validation21.evaluate()\n",
    "\n",
    "PR_result21 = CrossValidationResult.obtain_from_generic(results21)\n",
    "print(\"mean area under the PR curve\", PR_result21.get_mean())\n",
    "evaluation_criterium2 = ROCEvaluation()\n",
    "\n",
    "cross_validation22 = CrossValidation(classifier_SVM, feats_tr, BinaryLabels(numpy.array(labels)),splitting_strategy, evaluation_criterium2, False)\n",
    "\n",
    "results22 = cross_validation22.evaluate()\n",
    "\n",
    "ROC_result22 = CrossValidationResult.obtain_from_generic(results22)\n",
    "print(\"mean area under the ROC curve\", ROC_result22.get_mean())"
   ]
  },
  {
   "cell_type": "code",
   "execution_count": 5,
   "metadata": {},
   "outputs": [
    {
     "name": "stdout",
     "output_type": "stream",
     "text": [
      "mean area under the PR curve 0.9380467932055643\n",
      "mean area under the ROC curve 0.9700914347466072\n"
     ]
    }
   ],
   "source": [
    "\n",
    "negatives1, ids2, minimal2 = read_fastafile('enh_es_200.fa')\n",
    "positives1, ids1, minimal1 = read_fastafile('random12000.fa')\n",
    "cut = min(minimal1, minimal2)\n",
    "seqs = positives1 + negatives1\n",
    "\n",
    "labels = [numpy.double(1)] * len(positives1) + [numpy.double(-1)] * len(negatives1)\n",
    "g_kmers_list = generate_kmers_list(6)\n",
    "g_revcomp_mapping = generate_revcomp_mapping_table(6)\n",
    "feats_tr = StringCharFeatures(DNA)\n",
    "feats_tr.set_features(seqs)\n",
    "kernel = LocalAlignmentStringKernel(feats_tr, feats_tr)\n",
    "\n",
    "normaliz = IdentityKernelNormalizer()\n",
    "normaliz.normalize(0, 0, 250)\n",
    "kernel.set_normalizer(normaliz)\n",
    "splitting_strategy=StratifiedCrossValidationSplitting(BinaryLabels(numpy.array(labels)), 3)\n",
    "evaluation_criterium1 = PRCEvaluation()\n",
    "svmC = 1.0\n",
    "classifier_SVM = LibSVM(svmC, kernel, BinaryLabels(numpy.array(labels)))\n",
    "cross_validation23 = CrossValidation(classifier_SVM, feats_tr, BinaryLabels(numpy.array(labels)),splitting_strategy, evaluation_criterium1, False)\n",
    "\n",
    "results23 = cross_validation23.evaluate()\n",
    "\n",
    "PR_result23 = CrossValidationResult.obtain_from_generic(results23)\n",
    "print(\"mean area under the PR curve\", PR_result23.get_mean())\n",
    "evaluation_criterium2 = ROCEvaluation()\n",
    "\n",
    "cross_validation24 = CrossValidation(classifier_SVM, feats_tr, BinaryLabels(numpy.array(labels)),splitting_strategy, evaluation_criterium2, False)\n",
    "\n",
    "results24 = cross_validation24.evaluate()\n",
    "\n",
    "ROC_result24 = CrossValidationResult.obtain_from_generic(results24)\n",
    "print(\"mean area under the ROC curve\", ROC_result24.get_mean())"
   ]
  },
  {
   "cell_type": "code",
   "execution_count": 26,
   "metadata": {},
   "outputs": [
    {
     "name": "stdout",
     "output_type": "stream",
     "text": [
      "mean area under the PR curve 0.9904151404151403\n",
      "mean area under the ROC curve 1.0\n"
     ]
    }
   ],
   "source": [
    "negatives1, ids2, minimal2 = read_fastafile('enh_es_800.fa')\n",
    "positives1, ids1, minimal1 = read_fastafile('random12000.fa')\n",
    "cut = min(minimal1, minimal2)\n",
    "seqs = positives1 + negatives1\n",
    "\n",
    "labels = [numpy.double(1)] * len(positives1) + [numpy.double(-1)] * len(negatives1)\n",
    "g_kmers_list = generate_kmers_list(6)\n",
    "g_revcomp_mapping = generate_revcomp_mapping_table(6)\n",
    "feats_tr = StringCharFeatures(DNA)\n",
    "feats_tr.set_features(seqs)\n",
    "kernel = LocalAlignmentStringKernel(feats_tr, feats_tr)\n",
    "\n",
    "normaliz = IdentityKernelNormalizer()\n",
    "normaliz.normalize(0, 0, 250)\n",
    "kernel.set_normalizer(normaliz)\n",
    "splitting_strategy=StratifiedCrossValidationSplitting(BinaryLabels(numpy.array(labels)), 3)\n",
    "evaluation_criterium1 = PRCEvaluation()\n",
    "svmC = 1.0\n",
    "classifier_SVM = LibSVM(svmC, kernel, BinaryLabels(numpy.array(labels)))\n",
    "cross_validation25 = CrossValidation(classifier_SVM, feats_tr, BinaryLabels(numpy.array(labels)),splitting_strategy, evaluation_criterium1, False)\n",
    "\n",
    "results25 = cross_validation25.evaluate()\n",
    "\n",
    "PR_result25 = CrossValidationResult.obtain_from_generic(results25)\n",
    "print(\"mean area under the PR curve\", PR_result25.get_mean())\n",
    "evaluation_criterium2 = ROCEvaluation()\n",
    "\n",
    "cross_validation26 = CrossValidation(classifier_SVM, feats_tr, BinaryLabels(numpy.array(labels)),splitting_strategy, evaluation_criterium2, False)\n",
    "\n",
    "results26 = cross_validation26.evaluate()\n",
    "\n",
    "ROC_result26 = CrossValidationResult.obtain_from_generic(results26)\n",
    "print(\"mean area under the ROC curve\", ROC_result26.get_mean())"
   ]
  },
  {
   "cell_type": "code",
   "execution_count": 27,
   "metadata": {},
   "outputs": [
    {
     "name": "stdout",
     "output_type": "stream",
     "text": [
      "mean area under the PR curve 0.6905081495412762\n",
      "mean area under the ROC curve 0.7308256613398189\n"
     ]
    }
   ],
   "source": [
    "\n",
    "negatives1, ids2, minimal2 = read_fastafile('enh_neuact_200.fa')\n",
    "positives1, ids1, minimal1 = read_fastafile('random12000.fa')\n",
    "cut = min(minimal1, minimal2)\n",
    "seqs = positives1 + negatives1\n",
    "\n",
    "labels = [numpy.double(1)] * len(positives1) + [numpy.double(-1)] * len(negatives1)\n",
    "g_kmers_list = generate_kmers_list(6)\n",
    "g_revcomp_mapping = generate_revcomp_mapping_table(6)\n",
    "feats_tr = StringCharFeatures(DNA)\n",
    "feats_tr.set_features(seqs)\n",
    "kernel = LocalAlignmentStringKernel(feats_tr, feats_tr)\n",
    "\n",
    "normaliz = IdentityKernelNormalizer()\n",
    "normaliz.normalize(0, 0, 250)\n",
    "kernel.set_normalizer(normaliz)\n",
    "splitting_strategy=StratifiedCrossValidationSplitting(BinaryLabels(numpy.array(labels)), 3)\n",
    "evaluation_criterium1 = PRCEvaluation()\n",
    "svmC = 1.0\n",
    "classifier_SVM = LibSVM(svmC, kernel, BinaryLabels(numpy.array(labels)))\n",
    "cross_validation27 = CrossValidation(classifier_SVM, feats_tr, BinaryLabels(numpy.array(labels)),splitting_strategy, evaluation_criterium1, False)\n",
    "\n",
    "results27 = cross_validation27.evaluate()\n",
    "\n",
    "PR_result27 = CrossValidationResult.obtain_from_generic(results27)\n",
    "print(\"mean area under the PR curve\", PR_result27.get_mean())\n",
    "evaluation_criterium2 = ROCEvaluation()\n",
    "\n",
    "cross_validation28 = CrossValidation(classifier_SVM, feats_tr, BinaryLabels(numpy.array(labels)),splitting_strategy, evaluation_criterium2, False)\n",
    "\n",
    "results28 = cross_validation28.evaluate()\n",
    "\n",
    "ROC_result28 = CrossValidationResult.obtain_from_generic(results28)\n",
    "print(\"mean area under the ROC curve\", ROC_result28.get_mean())"
   ]
  },
  {
   "cell_type": "code",
   "execution_count": 2,
   "metadata": {},
   "outputs": [
    {
     "name": "stdout",
     "output_type": "stream",
     "text": [
      "mean area under the PR curve 0.9478373504319118\n",
      "mean area under the ROC curve 0.971101903659681\n"
     ]
    }
   ],
   "source": [
    "\n",
    "negatives1, ids2, minimal2 = read_fastafile('enh_neuact_200.fa')\n",
    "positives1, ids1, minimal1 = read_fastafile('random5240.fa')\n",
    "cut = min(minimal1, minimal2)\n",
    "seqs = positives1 + negatives1\n",
    "\n",
    "labels = [numpy.double(1)] * len(positives1) + [numpy.double(-1)] * len(negatives1)\n",
    "g_kmers_list = generate_kmers_list(6)\n",
    "g_revcomp_mapping = generate_revcomp_mapping_table(6)\n",
    "feats_tr = StringCharFeatures(DNA)\n",
    "feats_tr.set_features(seqs)\n",
    "kernel = LocalAlignmentStringKernel(feats_tr, feats_tr)\n",
    "\n",
    "normaliz = IdentityKernelNormalizer()\n",
    "normaliz.normalize(0, 0, 250)\n",
    "kernel.set_normalizer(normaliz)\n",
    "splitting_strategy=StratifiedCrossValidationSplitting(BinaryLabels(numpy.array(labels)), 3)\n",
    "evaluation_criterium1 = PRCEvaluation()\n",
    "svmC = 1.0\n",
    "classifier_SVM = LibSVM(svmC, kernel, BinaryLabels(numpy.array(labels)))\n",
    "cross_validation13 = CrossValidation(classifier_SVM, feats_tr, BinaryLabels(numpy.array(labels)),splitting_strategy, evaluation_criterium1, False)\n",
    "\n",
    "results13 = cross_validation13.evaluate()\n",
    "\n",
    "PR_result13 = CrossValidationResult.obtain_from_generic(results13)\n",
    "print(\"mean area under the PR curve\", PR_result13.get_mean())\n",
    "evaluation_criterium2 = ROCEvaluation()\n",
    "\n",
    "cross_validation14 = CrossValidation(classifier_SVM, feats_tr, BinaryLabels(numpy.array(labels)),splitting_strategy, evaluation_criterium2, False)\n",
    "\n",
    "results14 = cross_validation14.evaluate()\n",
    "\n",
    "ROC_result14 = CrossValidationResult.obtain_from_generic(results14)\n",
    "print(\"mean area under the ROC curve\", ROC_result14.get_mean())"
   ]
  },
  {
   "cell_type": "code",
   "execution_count": 3,
   "metadata": {},
   "outputs": [
    {
     "name": "stdout",
     "output_type": "stream",
     "text": [
      "mean area under the PR curve 0.9432696402593456\n",
      "mean area under the ROC curve 0.9694297082228115\n"
     ]
    }
   ],
   "source": [
    "from shogun import OligoStringKernel\n",
    "negatives1, ids2, minimal2 = read_fastafile('enh_es_200.fa')\n",
    "positives1, ids1, minimal1 = read_fastafile('random12000.fa')\n",
    "cut = min(minimal1, minimal2)\n",
    "seqs = positives1 + negatives1\n",
    "\n",
    "labels = [numpy.double(1)] * len(positives1) + [numpy.double(-1)] * len(negatives1)\n",
    "g_kmers_list = generate_kmers_list(6)\n",
    "g_revcomp_mapping = generate_revcomp_mapping_table(6)\n",
    "feats_tr = StringCharFeatures(DNA)\n",
    "feats_tr.set_features(seqs)\n",
    "kernel_new = OligoStringKernel(feats_tr, feats_tr, 7, 250)\n",
    "\n",
    "normaliz = IdentityKernelNormalizer()\n",
    "normaliz.normalize(0, 0, 250)\n",
    "kernel.set_normalizer(normaliz)\n",
    "splitting_strategy=StratifiedCrossValidationSplitting(BinaryLabels(numpy.array(labels)), 3)\n",
    "evaluation_criterium1 = PRCEvaluation()\n",
    "svmC = 1.0\n",
    "classifier_SVM_diff = LibSVM(svmC, kernel_new, BinaryLabels(numpy.array(labels)))\n",
    "cross_validation_diff1 = CrossValidation(classifier_SVM_diff, feats_tr, BinaryLabels(numpy.array(labels)),splitting_strategy, evaluation_criterium1, False)\n",
    "\n",
    "results_diff1 = cross_validation_diff1.evaluate()\n",
    "\n",
    "PR_result_diff1 = CrossValidationResult.obtain_from_generic(results_diff1)\n",
    "print(\"mean area under the PR curve\", PR_result_diff1.get_mean())\n",
    "evaluation_criterium2 = ROCEvaluation()\n",
    "\n",
    "cross_validation_diff2 = CrossValidation(classifier_SVM_diff, feats_tr, BinaryLabels(numpy.array(labels)),splitting_strategy, evaluation_criterium2, False)\n",
    "\n",
    "results_diff2 = cross_validation_diff2.evaluate()\n",
    "\n",
    "ROC_result_diff2 = CrossValidationResult.obtain_from_generic(results_diff2)\n",
    "print(\"mean area under the ROC curve\", ROC_result_diff2.get_mean())"
   ]
  },
  {
   "cell_type": "code",
   "execution_count": 9,
   "metadata": {},
   "outputs": [
    {
     "name": "stdout",
     "output_type": "stream",
     "text": [
      "mean area under the PR curve 0.5376675527020516\n",
      "mean area under the ROC curve 0.5456997651297203\n"
     ]
    }
   ],
   "source": [
    "from shogun import GaussianMatchStringKernel, LinearStringKernel, PolyMatchStringKernel\n",
    "negatives1, ids2, minimal2 = read_fastafile('enh_neuact_200.fa')\n",
    "positives1, ids1, minimal1 = read_fastafile('random12000.fa')\n",
    "cut = min(minimal1, minimal2)\n",
    "seqs = positives1 + negatives1\n",
    "\n",
    "labels = [numpy.double(1)] * len(positives1) + [numpy.double(-1)] * len(negatives1)\n",
    "g_kmers_list = generate_kmers_list(6)\n",
    "g_revcomp_mapping = generate_revcomp_mapping_table(6)\n",
    "feats_tr = StringCharFeatures(DNA)\n",
    "feats_tr.set_features(seqs)\n",
    "kernel_ne = GaussianMatchStringKernel(feats_tr, feats_tr, 400)\n",
    "\n",
    "splitting_strategy=StratifiedCrossValidationSplitting(BinaryLabels(numpy.array(labels)), 3)\n",
    "evaluation_criterium1 = PRCEvaluation()\n",
    "svmC = 9.0\n",
    "classifier_SVM_diff7 = LibSVM(svmC, kernel_ne, BinaryLabels(numpy.array(labels)))\n",
    "cross_validation_diff7 = CrossValidation(classifier_SVM_diff7, feats_tr, BinaryLabels(numpy.array(labels)),splitting_strategy, evaluation_criterium1, False)\n",
    "\n",
    "results_diff7 = cross_validation_diff7.evaluate()\n",
    "\n",
    "PR_result_diff7 = CrossValidationResult.obtain_from_generic(results_diff7)\n",
    "print(\"mean area under the PR curve\", PR_result_diff7.get_mean())\n",
    "evaluation_criterium2 = ROCEvaluation()\n",
    "\n",
    "cross_validation_diff8 = CrossValidation(classifier_SVM_diff7, feats_tr, BinaryLabels(numpy.array(labels)),splitting_strategy, evaluation_criterium2, False)\n",
    "\n",
    "results_diff8 = cross_validation_diff8.evaluate()\n",
    "\n",
    "ROC_result_diff8 = CrossValidationResult.obtain_from_generic(results_diff8)\n",
    "print(\"mean area under the ROC curve\", ROC_result_diff8.get_mean())"
   ]
  },
  {
   "cell_type": "code",
   "execution_count": null,
   "metadata": {},
   "outputs": [],
   "source": []
  }
 ],
 "metadata": {
  "kernelspec": {
   "display_name": "Python 3",
   "language": "python",
   "name": "python3"
  },
  "language_info": {
   "codemirror_mode": {
    "name": "ipython",
    "version": 3
   },
   "file_extension": ".py",
   "mimetype": "text/x-python",
   "name": "python",
   "nbconvert_exporter": "python",
   "pygments_lexer": "ipython3",
   "version": "3.6.8"
  }
 },
 "nbformat": 4,
 "nbformat_minor": 2
}
