{
 "cells": [
  {
   "cell_type": "code",
   "execution_count": 1,
   "metadata": {},
   "outputs": [
    {
     "name": "stdout",
     "output_type": "stream",
     "text": [
      "Requirement already satisfied: python-sat in ./cd/lib/python3.6/site-packages (0.1.4.dev17)\n",
      "Requirement already satisfied: pypblib>=0.0.3 in ./cd/lib/python3.6/site-packages (from python-sat) (0.0.4)\n",
      "Requirement already satisfied: py-aiger>=3.3.0 in ./cd/lib/python3.6/site-packages (from python-sat) (3.3.3)\n",
      "Requirement already satisfied: six in ./cd/lib/python3.6/site-packages (from python-sat) (1.12.0)\n",
      "Requirement already satisfied: funcy<2.0,>=1.12 in ./cd/lib/python3.6/site-packages (from py-aiger>=3.3.0->python-sat) (1.13)\n",
      "Requirement already satisfied: attrs<20.0,>=19.1 in ./cd/lib/python3.6/site-packages (from py-aiger>=3.3.0->python-sat) (19.1.0)\n",
      "Requirement already satisfied: toposort<2.0,>=1.5 in ./cd/lib/python3.6/site-packages (from py-aiger>=3.3.0->python-sat) (1.5)\n",
      "Requirement already satisfied: bidict<0.19.0,>=0.18.0 in ./cd/lib/python3.6/site-packages (from py-aiger>=3.3.0->python-sat) (0.18.2)\n",
      "Requirement already satisfied: parsimonious<0.9.0,>=0.8.1 in ./cd/lib/python3.6/site-packages (from py-aiger>=3.3.0->python-sat) (0.8.1)\n"
     ]
    }
   ],
   "source": [
    "!pip install python-sat"
   ]
  },
  {
   "cell_type": "code",
   "execution_count": 1,
   "metadata": {},
   "outputs": [],
   "source": [
    "from pysat import solvers\n",
    "solver = solvers.Glucose3()"
   ]
  },
  {
   "cell_type": "markdown",
   "metadata": {},
   "source": [
    "Основная функция, которая на вход принимает матрицу смежности графа, количество вершин и хроматическое число, а потом составляет функцию для SAT\n",
    "Суть: для каждой вершины создаём к-переменных - по одной на каждый цвет. Далее накладываем условия\n",
    "\n",
    "1) Хотя бы одна переменная для каждой врешины должна быть инстиной\n",
    "\n",
    "2) Только одна вершина должна быть истиной\n",
    "\n",
    "3) Вершины, соединенные ребрами должны иметь разный цвет"
   ]
  },
  {
   "cell_type": "code",
   "execution_count": 2,
   "metadata": {},
   "outputs": [],
   "source": [
    "def transform(matrix, n, k):\n",
    "    def get_idx(v_number, color_number):\n",
    "        return v_number * k + color_number + 1\n",
    "    \n",
    "    clauses = []\n",
    "\n",
    "  # xi1 or ... or xik = 1\n",
    "  #For each vertex has to be 1\n",
    "    for v in range(n):\n",
    "        cur = []\n",
    "        for colour in range(k):\n",
    "            cur.append(get_idx(v, colour))\n",
    "        clauses.append(cur)\n",
    "\n",
    "  # not x_vj or not x_vi i != j\n",
    "  # for each vertex has to be only 1 colour\n",
    "    for v in range(n):\n",
    "        for colour1 in range(k):\n",
    "            for colour2 in range (k):\n",
    "                if (colour2 > colour1):\n",
    "                    clause = [-get_idx(v, colour1), -get_idx(v, colour2)]\n",
    "                    clauses.append(clause)\n",
    "                    \n",
    "  # not x_vi or not x_ui if V(v, u) = 1\n",
    "  # neigbours have to have different colours\n",
    "    for v in range(n):\n",
    "        for u in range(v, n):\n",
    "            if matrix[v][u]:\n",
    "                for colour in range(k):\n",
    "                    clause = [-get_idx(v, colour), -get_idx(u, colour)]\n",
    "                    clauses.append(clause)\n",
    "    return clauses"
   ]
  },
  {
   "cell_type": "markdown",
   "metadata": {},
   "source": [
    "Создаем матрицу смежности из пар, полученных из входного файла"
   ]
  },
  {
   "cell_type": "code",
   "execution_count": 3,
   "metadata": {},
   "outputs": [],
   "source": [
    "def create_graph(n, m, graph_infoo):\n",
    "    data_graph = []\n",
    "    for i in range(n):\n",
    "        data_graph.append(list())\n",
    "        for j in range(n):\n",
    "            data_graph[i].append(0)\n",
    "\n",
    "    for i in range(m):\n",
    "        f, s = graph_infoo[i][0], graph_infoo[i][1]\n",
    "        f -= 1\n",
    "        s -= 1\n",
    "        data_graph[f][s] = 1\n",
    "        data_graph[s][f] = 1\n",
    "    return data_graph"
   ]
  },
  {
   "cell_type": "markdown",
   "metadata": {},
   "source": [
    "Функция получения ответа - по очереди пробует все хроматические числа от 0 до первого числа, которое в которое можно окрасить вершины"
   ]
  },
  {
   "cell_type": "code",
   "execution_count": 4,
   "metadata": {},
   "outputs": [],
   "source": [
    "def get_colours(model, cn):\n",
    "    colours = str()\n",
    "    for i in range(n*cn):\n",
    "        if model[i] > 0:\n",
    "            colours += str((i % cn) + 1)\n",
    "            colours += ' '\n",
    "    return colours\n",
    "\n",
    "def get_ans(matrix, n, solver):\n",
    "    chroma_num = 0\n",
    "    clauses = transform(matrix, n, chroma_num)\n",
    "    for clause in clauses:\n",
    "        solver.add_clause(clause)\n",
    "    while not solver.solve():\n",
    "        solver = solvers.Glucose3()\n",
    "        chroma_num += 1\n",
    "        clauses = transform(matrix, n, chroma_num)\n",
    "        for clause in clauses:\n",
    "            solver.add_clause(clause)\n",
    "    colours = get_colours(solver.get_model(), chroma_num)\n",
    "    ans = str(chroma_num) + '\\n'\n",
    "    ans += colours\n",
    "    return ans"
   ]
  },
  {
   "cell_type": "markdown",
   "metadata": {},
   "source": [
    "Считываю данные из входного in - файла, записываю для каждого ответ в out"
   ]
  },
  {
   "cell_type": "code",
   "execution_count": 5,
   "metadata": {},
   "outputs": [],
   "source": [
    "line_with_cnumbers = str()\n",
    "for i in range(1, 31):\n",
    "    name = str()\n",
    "    if i < 10:\n",
    "        name += '0'\n",
    "    name += str(i)\n",
    "    inp = name + '.in'\n",
    "    f = open(inp, 'r')\n",
    "    data = f.read()\n",
    "    info = list(map(str, data.split('\\n')))\n",
    "    n, m = map(int, info[0].split())\n",
    "    graph_info = []\n",
    "    for i in range(1, len(info)):\n",
    "        graph_info.append(list(map(int, info[i].split())))\n",
    "    matrix = create_graph(n, m, graph_info)\n",
    "    ans = get_ans(matrix, n, solver)\n",
    "    line_with_cnumbers += ans[0] + ' '\n",
    "    outp = name + '.out'\n",
    "    output = open(outp, 'w')\n",
    "    output.write(ans)\n",
    "    f.close()\n",
    "    output.close()"
   ]
  },
  {
   "cell_type": "markdown",
   "metadata": {},
   "source": [
    "Все хроматические числа по очереди"
   ]
  },
  {
   "cell_type": "code",
   "execution_count": 6,
   "metadata": {},
   "outputs": [
    {
     "name": "stdout",
     "output_type": "stream",
     "text": [
      "1 2 3 4 4 2 3 3 4 3 5 4 4 4 5 5 5 5 4 5 4 4 4 3 5 5 5 4 5 5 \n"
     ]
    }
   ],
   "source": [
    "print(line_with_cnumbers)"
   ]
  },
  {
   "cell_type": "markdown",
   "metadata": {},
   "source": [
    "Для каждого файла-out запускал программу для проверки"
   ]
  },
  {
   "cell_type": "code",
   "execution_count": 7,
   "metadata": {},
   "outputs": [
    {
     "name": "stdout",
     "output_type": "stream",
     "text": [
      "for task #1\n",
      "\u001b[92mOk!\u001b[0m\n",
      "for task #2\n",
      "\u001b[92mOk!\u001b[0m\n",
      "for task #3\n",
      "\u001b[92mOk!\u001b[0m\n",
      "for task #4\n",
      "\u001b[92mOk!\u001b[0m\n",
      "for task #5\n",
      "\u001b[92mOk!\u001b[0m\n",
      "for task #6\n",
      "\u001b[92mOk!\u001b[0m\n",
      "for task #7\n",
      "\u001b[92mOk!\u001b[0m\n",
      "for task #8\n",
      "\u001b[92mOk!\u001b[0m\n",
      "for task #9\n",
      "\u001b[92mOk!\u001b[0m\n",
      "for task #10\n",
      "\u001b[92mOk!\u001b[0m\n",
      "for task #11\n",
      "\u001b[92mOk!\u001b[0m\n",
      "for task #12\n",
      "\u001b[92mOk!\u001b[0m\n",
      "for task #13\n",
      "\u001b[92mOk!\u001b[0m\n",
      "for task #14\n",
      "\u001b[92mOk!\u001b[0m\n",
      "for task #15\n",
      "\u001b[92mOk!\u001b[0m\n",
      "for task #16\n",
      "\u001b[92mOk!\u001b[0m\n",
      "for task #17\n",
      "\u001b[92mOk!\u001b[0m\n",
      "for task #18\n",
      "\u001b[92mOk!\u001b[0m\n",
      "for task #19\n",
      "\u001b[92mOk!\u001b[0m\n",
      "for task #20\n",
      "\u001b[92mOk!\u001b[0m\n",
      "for task #21\n",
      "\u001b[92mOk!\u001b[0m\n",
      "for task #22\n",
      "\u001b[92mOk!\u001b[0m\n",
      "for task #23\n",
      "\u001b[92mOk!\u001b[0m\n",
      "for task #24\n",
      "\u001b[92mOk!\u001b[0m\n",
      "for task #25\n",
      "\u001b[92mOk!\u001b[0m\n",
      "for task #26\n",
      "\u001b[92mOk!\u001b[0m\n",
      "for task #27\n",
      "\u001b[92mOk!\u001b[0m\n",
      "for task #28\n",
      "\u001b[92mOk!\u001b[0m\n",
      "for task #29\n",
      "\u001b[92mOk!\u001b[0m\n",
      "for task #30\n",
      "\u001b[92mOk!\u001b[0m\n"
     ]
    }
   ],
   "source": [
    "print(\"for task #1\")\n",
    "!python3 check.py 01.in 01.out\n",
    "print(\"for task #2\")\n",
    "!python3 check.py 02.in 02.out\n",
    "print(\"for task #3\")\n",
    "!python3 check.py 03.in 03.out\n",
    "print(\"for task #4\")\n",
    "!python3 check.py 04.in 04.out\n",
    "print(\"for task #5\")\n",
    "!python3 check.py 05.in 05.out\n",
    "print(\"for task #6\")\n",
    "!python3 check.py 06.in 06.out\n",
    "print(\"for task #7\")\n",
    "!python3 check.py 07.in 07.out\n",
    "print(\"for task #8\")\n",
    "!python3 check.py 08.in 08.out\n",
    "print(\"for task #9\")\n",
    "!python3 check.py 09.in 09.out\n",
    "print(\"for task #10\")\n",
    "!python3 check.py 10.in 10.out\n",
    "print(\"for task #11\")\n",
    "!python3 check.py 11.in 11.out\n",
    "print(\"for task #12\")\n",
    "!python3 check.py 12.in 12.out\n",
    "print(\"for task #13\")\n",
    "!python3 check.py 13.in 13.out\n",
    "print(\"for task #14\")\n",
    "!python3 check.py 14.in 14.out\n",
    "print(\"for task #15\")\n",
    "!python3 check.py 15.in 15.out\n",
    "print(\"for task #16\")\n",
    "!python3 check.py 16.in 16.out\n",
    "print(\"for task #17\")\n",
    "!python3 check.py 17.in 17.out\n",
    "print(\"for task #18\")\n",
    "!python3 check.py 18.in 18.out\n",
    "print(\"for task #19\")\n",
    "!python3 check.py 19.in 19.out\n",
    "print(\"for task #20\")\n",
    "!python3 check.py 20.in 20.out\n",
    "print(\"for task #21\")\n",
    "!python3 check.py 21.in 21.out\n",
    "print(\"for task #22\")\n",
    "!python3 check.py 22.in 22.out\n",
    "print(\"for task #23\")\n",
    "!python3 check.py 23.in 23.out\n",
    "print(\"for task #24\")\n",
    "!python3 check.py 24.in 24.out\n",
    "print(\"for task #25\")\n",
    "!python3 check.py 25.in 25.out\n",
    "print(\"for task #26\")\n",
    "!python3 check.py 26.in 26.out\n",
    "print(\"for task #27\")\n",
    "!python3 check.py 27.in 27.out\n",
    "print(\"for task #28\")\n",
    "!python3 check.py 28.in 28.out\n",
    "print(\"for task #29\")\n",
    "!python3 check.py 29.in 29.out\n",
    "print(\"for task #30\")\n",
    "!python3 check.py 30.in 30.out"
   ]
  }
 ],
 "metadata": {
  "kernelspec": {
   "display_name": "Python 3",
   "language": "python",
   "name": "python3"
  },
  "language_info": {
   "codemirror_mode": {
    "name": "ipython",
    "version": 3
   },
   "file_extension": ".py",
   "mimetype": "text/x-python",
   "name": "python",
   "nbconvert_exporter": "python",
   "pygments_lexer": "ipython3",
   "version": "3.6.8"
  }
 },
 "nbformat": 4,
 "nbformat_minor": 2
}
